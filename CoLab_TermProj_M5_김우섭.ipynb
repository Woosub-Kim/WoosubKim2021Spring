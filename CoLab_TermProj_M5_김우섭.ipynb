{
  "nbformat": 4,
  "nbformat_minor": 0,
  "metadata": {
    "colab": {
      "name": "CoLab_TermProj_M5_김우섭.ipynb",
      "provenance": [],
      "collapsed_sections": []
    },
    "kernelspec": {
      "display_name": "Python 3",
      "language": "python",
      "name": "python3"
    },
    "language_info": {
      "codemirror_mode": {
        "name": "ipython",
        "version": 3
      },
      "file_extension": ".py",
      "mimetype": "text/x-python",
      "name": "python",
      "nbconvert_exporter": "python",
      "pygments_lexer": "ipython3",
      "version": "3.8.5"
    }
  },
  "cells": [
    {
      "cell_type": "markdown",
      "metadata": {
        "id": "_SmTogjeMD47"
      },
      "source": [
        "# 생물정보학 및 실습 1 - Term Project용 Mission 2 환경 셋업\n",
        "\n",
        "```\n",
        "생물정보학 및 실습 1\n",
        "서울대학교 협동과정 생물정보학전공 2021년 1학기\n",
        "\n",
        "이 노트북은 Creative Commons BY-SA 조건으로 재사용 가능합니다.\n",
        "장혜식 <hyeshik@snu.ac.kr>, 서울대학교 생명과학부\n",
        "```\n",
        "\n",
        "이 노트북은 Google Colab을 이용해서 Term Project를 할 수 있도록 환경을 준비해 줍니다. 터미널 사용이 원활하지 않은 상태이고, 데이터를 오랫동안 보관하기 어렵기 때문에 되도록 개인용 컴퓨터에서 [Anaconda](https://www.anaconda.com/)나 [JupyterLab](https://jupyterlab.readthedocs.io/en/stable/) 등을 설치하고 사용하시는 것이 편하지만, 개인용 컴퓨터 사양이 부족한 경우에는 Google CoLab을 사용할 수도 있습니다. 개인용 컴퓨터를 쓸 때는 Windows에서는 [WSL2](https://docs.microsoft.com/en-us/windows/wsl/install-win10)를 쓰시면 리눅스 커맨드라인 환경을 쓸 수 있습니다. Google Colab은 창을 닫은 후 90분 후, 또는 창을 처음 열고 12시간 후에 환경을 닫아버리기 때문에 매번 실습할 때마다 새로 셋업이 필요합니다. `Runtime->Run All`을 실행해서 전체를 한 번 실행하시면 준비됩니다. 모든 것이 잘 안 되고 뭔가 꼬인 느낌이 강하게 들 때는 `Runtime->Factory reset runtime`을 누르고 새로 시작하시면 될 수도 있습니다.\n"
      ]
    },
    {
      "cell_type": "markdown",
      "metadata": {
        "id": "zGYjheLcRJS0"
      },
      "source": [
        "## Google Drive 마운트\n",
        "\n",
        "데이터 파일들을 불러오고 저장하기 위해서 Google Drive를 연결합니다. **이번엔 스크립트 파일을 편집해야 하기 때문에 Google Drive 마운트를 하지 않으면 vim등 콘솔에서 쓸 수 있는 에디터를 쓰셔야 합니다.** 화면에 나오는 주소를 눌러서 인증하고 인증 코드를 그 아래에 입력하세요. 그러면 `/contents/drive/MyDrive`에서 자신의 Drive 최상단 폴더가 보입니다."
      ]
    },
    {
      "cell_type": "code",
      "metadata": {
        "colab": {
          "base_uri": "https://localhost:8080/"
        },
        "id": "32XiZxGBFjIW",
        "outputId": "11ea7de3-3bb0-4db6-d685-468027de8109"
      },
      "source": [
        "from google.colab import drive\n",
        "drive.mount('/content/drive')"
      ],
      "execution_count": 29,
      "outputs": [
        {
          "output_type": "stream",
          "text": [
            "Drive already mounted at /content/drive; to attempt to forcibly remount, call drive.mount(\"/content/drive\", force_remount=True).\n"
          ],
          "name": "stdout"
        }
      ]
    },
    {
      "cell_type": "markdown",
      "metadata": {
        "id": "ra3RB22DWEER"
      },
      "source": [
        "## 실습용 Bioconda 환경 설치하기\n",
        "실습용 프로그램들을 쉽게 설치할 수 있도록 [Bioconda](https://bioconda.github.io/) 환경을 만듭니다. 실행하고 진행상황을 관찰하다가 에러로 보이는 것이 있으면 잘 읽어보고 해결합니다.\n",
        "\n",
        "파이썬 모듈들은 Colab쪽의 파이썬 인터프리터를 바꿀 수 없기 때문에 Conda에 설치하더라도 사용하기 어렵습니다. 파이썬 모듈은 `pip` 명령어로 설치하시면 Colab에서 불러와서 사용할 수 있습니다.\n",
        "\n",
        "환경 초기화에 관련된 스크립트는 [GitHub 프로젝트](https://github.com/hyeshik/colab-biolab)에 있습니다."
      ]
    },
    {
      "cell_type": "code",
      "metadata": {
        "colab": {
          "base_uri": "https://localhost:8080/"
        },
        "id": "pQ_FgLDGFJWK",
        "outputId": "55d15c1f-e391-4335-bc0d-9cb06645db61"
      },
      "source": [
        "!git clone https://github.com/hyeshik/colab-biolab.git\n",
        "!cd colab-biolab && bash tools/setup.sh\n",
        "exec(open('colab-biolab/tools/activate_conda.py').read())"
      ],
      "execution_count": 30,
      "outputs": [
        {
          "output_type": "stream",
          "text": [
            "fatal: destination path 'colab-biolab' already exists and is not an empty directory.\n",
            "./\n",
            "./root/\n",
            "./root/.bashrc.biolab\n",
            "./root/.bin.priority/\n",
            "./root/.bin.priority/pip\n",
            "./root/.bin.priority/pip2\n",
            "./root/.bin.priority/pip3\n",
            "./root/.condarc\n",
            "./root/.profile\n",
            "./root/.tmux.conf\n",
            "tar: ./root: file changed as we read it\n",
            "./root/.vimrc\n",
            "PREFIX=/root/conda\n",
            "Unpacking payload ...\n",
            "Collecting package metadata (current_repodata.json): - \b\b\\ \b\b| \b\bdone\n",
            "Solving environment: - \b\b\\ \b\b| \b\b/ \b\bdone\n",
            "\n",
            "# All requested packages already installed.\n",
            "\n",
            "installation finished.\n",
            "WARNING:\n",
            "    You currently have a PYTHONPATH environment variable set. This may cause\n",
            "    unexpected behavior when running the Python interpreter in Miniconda3.\n",
            "    For best results, please verify that your PYTHONPATH only points to\n",
            "    directories of packages that are compatible with the Python interpreter\n",
            "    in Miniconda3: /root/conda\n",
            "Collecting package metadata (current_repodata.json): - \b\b\\ \b\b| \b\b/ \b\b- \b\b\\ \b\b| \b\b/ \b\b- \b\b\\ \b\b| \b\b/ \b\b- \b\b\\ \b\b| \b\b/ \b\b- \b\b\\ \b\b| \b\b/ \b\b- \b\b\\ \b\b| \b\b/ \b\b- \b\b\\ \b\b| \b\b/ \b\b- \b\b\\ \b\b| \b\b/ \b\b- \b\b\\ \b\b| \b\b/ \b\b- \b\bdone\n",
            "Solving environment: | \b\b/ \b\b- \b\b\\ \b\b| \b\b/ \b\b- \b\b\\ \b\b| \b\b/ \b\b- \b\b\\ \b\b| \b\b/ \b\b- \b\b\\ \b\b| \b\b/ \b\b- \b\b\\ \b\b| \b\b/ \b\b- \b\b\\ \b\b| \b\b/ \b\b- \b\b\\ \b\b| \b\b/ \b\b- \b\b\\ \b\b| \b\b/ \b\b- \b\b\\ \b\b| \b\b/ \b\b- \b\b\\ \b\b| \b\b/ \b\b- \b\b\\ \b\b| \b\b/ \b\b- \b\b\\ \b\b| \b\b/ \b\b- \b\b\\ \b\b| \b\b/ \b\b- \b\b\\ \b\b| \b\b/ \b\b- \b\b\\ \b\b| \b\b/ \b\b- \b\b\\ \b\b| \b\b/ \b\b- \b\b\\ \b\b| \b\bdone\n",
            "\n",
            "\n",
            "==> WARNING: A newer version of conda exists. <==\n",
            "  current version: 4.9.2\n",
            "  latest version: 4.10.1\n",
            "\n",
            "Please update conda by running\n",
            "\n",
            "    $ conda update -n base -c defaults conda\n",
            "\n",
            "\n",
            "\n",
            "## Package Plan ##\n",
            "\n",
            "  environment location: /root/conda/envs/lab\n",
            "\n",
            "  added / updated specs:\n",
            "    - bedtools\n",
            "    - biopython\n",
            "    - bwa\n",
            "    - cython\n",
            "    - matplotlib\n",
            "    - numpy\n",
            "    - pandas\n",
            "    - pip\n",
            "    - pysam\n",
            "    - samtools\n",
            "    - scipy\n",
            "    - star\n",
            "\n",
            "\n",
            "The following NEW packages will be INSTALLED:\n",
            "\n",
            "  _libgcc_mutex      conda-forge/linux-64::_libgcc_mutex-0.1-conda_forge\n",
            "  _openmp_mutex      conda-forge/linux-64::_openmp_mutex-4.5-1_gnu\n",
            "  bedtools           bioconda/linux-64::bedtools-2.30.0-h7d7f7ad_1\n",
            "  biopython          conda-forge/linux-64::biopython-1.79-py37h5e8e339_0\n",
            "  bwa                bioconda/linux-64::bwa-0.7.17-h5bf99c6_8\n",
            "  bzip2              conda-forge/linux-64::bzip2-1.0.8-h7f98852_4\n",
            "  c-ares             conda-forge/linux-64::c-ares-1.17.1-h7f98852_1\n",
            "  ca-certificates    conda-forge/linux-64::ca-certificates-2021.5.30-ha878542_0\n",
            "  certifi            conda-forge/linux-64::certifi-2021.5.30-py37h89c1867_0\n",
            "  cycler             conda-forge/noarch::cycler-0.10.0-py_2\n",
            "  cython             conda-forge/linux-64::cython-0.29.23-py37hcd2ae1e_0\n",
            "  dbus               conda-forge/linux-64::dbus-1.13.6-h48d8840_2\n",
            "  expat              conda-forge/linux-64::expat-2.4.1-h9c3ff4c_0\n",
            "  fontconfig         conda-forge/linux-64::fontconfig-2.13.1-hba837de_1005\n",
            "  freetype           conda-forge/linux-64::freetype-2.10.4-h0708190_1\n",
            "  gettext            conda-forge/linux-64::gettext-0.19.8.1-h0b5b191_1005\n",
            "  glib               conda-forge/linux-64::glib-2.68.2-h9c3ff4c_2\n",
            "  glib-tools         conda-forge/linux-64::glib-tools-2.68.2-h9c3ff4c_2\n",
            "  gst-plugins-base   pkgs/main/linux-64::gst-plugins-base-1.14.0-hbbd80ab_1\n",
            "  gstreamer          pkgs/main/linux-64::gstreamer-1.14.0-h28cd5cc_2\n",
            "  htslib             bioconda/linux-64::htslib-1.12-h9093b5e_1\n",
            "  icu                conda-forge/linux-64::icu-58.2-hf484d3e_1000\n",
            "  jbig               conda-forge/linux-64::jbig-2.1-h7f98852_2003\n",
            "  jpeg               conda-forge/linux-64::jpeg-9d-h36c2ea0_0\n",
            "  kiwisolver         conda-forge/linux-64::kiwisolver-1.3.1-py37h2527ec5_1\n",
            "  krb5               conda-forge/linux-64::krb5-1.19.1-hcc1bbae_0\n",
            "  lcms2              conda-forge/linux-64::lcms2-2.12-hddcbb42_0\n",
            "  ld_impl_linux-64   conda-forge/linux-64::ld_impl_linux-64-2.35.1-hea4e1c9_2\n",
            "  lerc               conda-forge/linux-64::lerc-2.2.1-h9c3ff4c_0\n",
            "  libblas            conda-forge/linux-64::libblas-3.9.0-9_openblas\n",
            "  libcblas           conda-forge/linux-64::libcblas-3.9.0-9_openblas\n",
            "  libcurl            conda-forge/linux-64::libcurl-7.77.0-h2574ce0_0\n",
            "  libdeflate         conda-forge/linux-64::libdeflate-1.7-h7f98852_5\n",
            "  libedit            conda-forge/linux-64::libedit-3.1.20191231-he28a2e2_2\n",
            "  libev              conda-forge/linux-64::libev-4.33-h516909a_1\n",
            "  libffi             conda-forge/linux-64::libffi-3.3-h58526e2_2\n",
            "  libgcc-ng          conda-forge/linux-64::libgcc-ng-9.3.0-h2828fa1_19\n",
            "  libgfortran-ng     conda-forge/linux-64::libgfortran-ng-9.3.0-hff62375_19\n",
            "  libgfortran5       conda-forge/linux-64::libgfortran5-9.3.0-hff62375_19\n",
            "  libglib            conda-forge/linux-64::libglib-2.68.2-h3e27bee_2\n",
            "  libgomp            conda-forge/linux-64::libgomp-9.3.0-h2828fa1_19\n",
            "  libiconv           conda-forge/linux-64::libiconv-1.16-h516909a_0\n",
            "  liblapack          conda-forge/linux-64::liblapack-3.9.0-9_openblas\n",
            "  libnghttp2         conda-forge/linux-64::libnghttp2-1.43.0-h812cca2_0\n",
            "  libopenblas        conda-forge/linux-64::libopenblas-0.3.15-pthreads_h8fe5266_1\n",
            "  libpng             conda-forge/linux-64::libpng-1.6.37-h21135ba_2\n",
            "  libssh2            conda-forge/linux-64::libssh2-1.9.0-ha56f1ee_6\n",
            "  libstdcxx-ng       conda-forge/linux-64::libstdcxx-ng-9.3.0-h6de172a_19\n",
            "  libtiff            conda-forge/linux-64::libtiff-4.3.0-hf544144_1\n",
            "  libuuid            conda-forge/linux-64::libuuid-2.32.1-h7f98852_1000\n",
            "  libwebp-base       conda-forge/linux-64::libwebp-base-1.2.0-h7f98852_2\n",
            "  libxcb             conda-forge/linux-64::libxcb-1.13-h7f98852_1003\n",
            "  libxml2            pkgs/main/linux-64::libxml2-2.9.10-hb55368b_3\n",
            "  lz4-c              conda-forge/linux-64::lz4-c-1.9.3-h9c3ff4c_0\n",
            "  matplotlib         conda-forge/linux-64::matplotlib-3.4.2-py37h89c1867_0\n",
            "  matplotlib-base    conda-forge/linux-64::matplotlib-base-3.4.2-py37hdd32ed1_0\n",
            "  ncurses            conda-forge/linux-64::ncurses-6.2-h58526e2_4\n",
            "  numpy              conda-forge/linux-64::numpy-1.20.3-py37h038b26d_1\n",
            "  olefile            conda-forge/noarch::olefile-0.46-pyh9f0ad1d_1\n",
            "  openjpeg           conda-forge/linux-64::openjpeg-2.4.0-hb52868f_1\n",
            "  openssl            conda-forge/linux-64::openssl-1.1.1k-h7f98852_0\n",
            "  pandas             conda-forge/linux-64::pandas-1.2.4-py37h219a48f_0\n",
            "  pcre               conda-forge/linux-64::pcre-8.44-he1b5a44_0\n",
            "  perl               conda-forge/linux-64::perl-5.32.0-h36c2ea0_0\n",
            "  pillow             conda-forge/linux-64::pillow-8.2.0-py37h4600e1f_1\n",
            "  pip                conda-forge/noarch::pip-21.1.2-pyhd8ed1ab_0\n",
            "  pthread-stubs      conda-forge/linux-64::pthread-stubs-0.4-h36c2ea0_1001\n",
            "  pyparsing          conda-forge/noarch::pyparsing-2.4.7-pyh9f0ad1d_0\n",
            "  pyqt               conda-forge/linux-64::pyqt-5.9.2-py37hcca6a23_4\n",
            "  pysam              bioconda/linux-64::pysam-0.16.0.1-py37h45aed0b_3\n",
            "  python             conda-forge/linux-64::python-3.7.10-hffdb5ce_100_cpython\n",
            "  python-dateutil    conda-forge/noarch::python-dateutil-2.8.1-py_0\n",
            "  python_abi         conda-forge/linux-64::python_abi-3.7-1_cp37m\n",
            "  pytz               conda-forge/noarch::pytz-2021.1-pyhd8ed1ab_0\n",
            "  qt                 pkgs/main/linux-64::qt-5.9.7-h5867ecd_1\n",
            "  readline           conda-forge/linux-64::readline-8.1-h46c0cb4_0\n",
            "  samtools           bioconda/linux-64::samtools-1.12-h9aed4be_1\n",
            "  scipy              conda-forge/linux-64::scipy-1.6.3-py37h29e03ee_0\n",
            "  setuptools         conda-forge/linux-64::setuptools-49.6.0-py37h89c1867_3\n",
            "  sip                pkgs/main/linux-64::sip-4.19.8-py37hf484d3e_0\n",
            "  six                conda-forge/noarch::six-1.16.0-pyh6c4a22f_0\n",
            "  sqlite             conda-forge/linux-64::sqlite-3.35.5-h74cdb3f_0\n",
            "  star               bioconda/linux-64::star-2.7.9a-h9ee0642_0\n",
            "  tk                 conda-forge/linux-64::tk-8.6.10-h21135ba_1\n",
            "  tornado            conda-forge/linux-64::tornado-6.1-py37h5e8e339_1\n",
            "  wheel              conda-forge/noarch::wheel-0.36.2-pyhd3deb0d_0\n",
            "  xorg-libxau        conda-forge/linux-64::xorg-libxau-1.0.9-h7f98852_0\n",
            "  xorg-libxdmcp      conda-forge/linux-64::xorg-libxdmcp-1.1.3-h7f98852_0\n",
            "  xz                 conda-forge/linux-64::xz-5.2.5-h516909a_1\n",
            "  zlib               conda-forge/linux-64::zlib-1.2.11-h516909a_1010\n",
            "  zstd               conda-forge/linux-64::zstd-1.5.0-ha95c52a_0\n",
            "\n",
            "\n",
            "Preparing transaction: - \b\b\\ \b\b| \b\b/ \b\b- \b\b\\ \b\b| \b\b/ \b\b- \b\b\\ \b\b| \b\b/ \b\bdone\n",
            "Verifying transaction: \\ \b\b| \b\b/ \b\b- \b\b\\ \b\b| \b\b/ \b\b- \b\b\\ \b\b| \b\b/ \b\b- \b\b\\ \b\b| \b\b/ \b\b- \b\b\\ \b\b| \b\b/ \b\b- \b\b\\ \b\b| \b\b/ \b\b- \b\b\\ \b\b| \b\b/ \b\b- \b\b\\ \b\b| \b\b/ \b\b- \b\b\\ \b\b| \b\b/ \b\b- \b\b\\ \b\b| \b\b/ \b\b- \b\b\\ \b\b| \b\b/ \b\b- \b\b\\ \b\b| \b\b/ \b\b- \b\b\\ \b\b| \b\b/ \b\b- \b\b\\ \b\b| \b\b/ \b\b- \b\bdone\n",
            "Executing transaction: | \b\b/ \b\b- \b\b\\ \b\b| \b\b/ \b\b- \b\b\\ \b\b| \b\b/ \b\b- \b\b\\ \b\b| \b\b/ \b\b- \b\b\\ \b\b| \b\b/ \b\b- \b\b\\ \b\b| \b\b/ \b\b- \b\b\\ \b\b| \b\b/ \b\b- \b\b\\ \b\b| \b\b/ \b\b- \b\b\\ \b\b| \b\b/ \b\b- \b\b\\ \b\b| \b\b/ \b\b- \b\b\\ \b\b| \b\b/ \b\b- \b\bdone\n",
            "#\n",
            "# To activate this environment, use\n",
            "#\n",
            "#     $ conda activate lab\n",
            "#\n",
            "# To deactivate an active environment, use\n",
            "#\n",
            "#     $ conda deactivate\n",
            "\n",
            "Activated conda environment `lab'!\n"
          ],
          "name": "stdout"
        }
      ]
    },
    {
      "cell_type": "code",
      "metadata": {
        "id": "-tgKsa_E-t-9"
      },
      "source": [
        "# !wget -O - --no-check-certificate https://hyeshik.qbio.io/binfo/binfo1-datapack1.tar | tar -C Documents.workspace/BILAB1 -xf -"
      ],
      "execution_count": 31,
      "outputs": []
    },
    {
      "cell_type": "markdown",
      "metadata": {
        "id": "J2LqGiP_N26s"
      },
      "source": [
        "## Google Drive에 시퀀싱 데이터 다운로드\n",
        "이제 실습 수업에서 필요한 시퀀싱 데이터를 다운로드 받아서 설치합시다. 드라이브 공간만 충분하면 데이터는 계속 저장돼 있기 때문에 한 번만 하시면 됩니다. Colab에서는 작업용 데이터를 Google Drive 폴더 아래의 `binfo-datapack1`에 저장합니다. 실습용 데이터는 `/content/drive/MyDrive/binfo1-datapack1`에 풀리게 됩니다. 첫 번째에는 wget이 접속오류를 내는 경우가 많으니, 접속에러가 발생하면 다시 한 번 실행해 보세요. 1G씩 끊어지지만 자동으로 이어받아집니다."
      ]
    },
    {
      "cell_type": "markdown",
      "metadata": {
        "id": "lnlM-S70C-tY"
      },
      "source": [
        "받은 데이터의 MD5 체크섬을 확인합니다. 한참 걸립니다. 각 파일들의 원래 체크섬은 다음과 같습니다. 한 번 비교해 보세요.\n",
        "\n",
        "```\n",
        "140aaf30bcb9276cc716f8699f04ddd6  CLIP-35L33G.bam\n",
        "f1b3336ed7e2f97d562dcc71641251bd  CLIP-35L33G.bam.bai\n",
        "328883a73d507eafbf5b60bd6b906201  RNA-control.bam\n",
        "02073818e2f398a73c3b76e5169de1ca  RNA-control.bam.bai\n",
        "b09550d09d6c2a4ce27f0226f426fdb1  RNA-siLin28a.bam\n",
        "fef112c727244060ea62d3f2564a07f6  RNA-siLin28a.bam.bai\n",
        "28bbd0c47d725669340c784f1b772c01  RNA-siLuc.bam\n",
        "43590fdc4d81905c0432e0d1cb8cfd5b  RNA-siLuc.bam.bai\n",
        "5c08a9297307bc83259e658c4474f0cc  RPF-siLin28a.bam\n",
        "a1bb3e29be412dfd7fd8d16b1b1acc4c  RPF-siLin28a.bam.bai\n",
        "f2eebf50943024d0116c9cd3e744c707  RPF-siLuc.bam\n",
        "dc24f69e8f571fc8be30f28ce5b84fcd  RPF-siLuc.bam.bai\n",
        "```"
      ]
    },
    {
      "cell_type": "code",
      "metadata": {
        "id": "g8lC_YJRBCPf"
      },
      "source": [
        "# !md5sum /content/drive/MyDrive/BioLab/binfo1-datapack1/*"
      ],
      "execution_count": 32,
      "outputs": []
    },
    {
      "cell_type": "markdown",
      "metadata": {
        "id": "kiQ5y4dTD27M"
      },
      "source": [
        "그리고, GENCODE Annotation 데이터도 미리 받아서 저장해 둡니다. 에러가 나면 다시 한 번 실행해 봅니다."
      ]
    },
    {
      "cell_type": "code",
      "metadata": {
        "id": "Efdd3x8hDMh4"
      },
      "source": [
        "# !wget --no-check-certificate -O /content/drive/MyDrive/binfo1-datapack1/gencode.gtf.gz http://ftp.ebi.ac.uk/pub/databases/gencode/Gencode_mouse/release_M27/gencode.vM27.annotation.gtf.gz"
      ],
      "execution_count": 33,
      "outputs": []
    },
    {
      "cell_type": "markdown",
      "metadata": {
        "id": "O3rM9ds6EMhB"
      },
      "source": [
        "다루기 쉽도록 Annotation 압축을 풉니다."
      ]
    },
    {
      "cell_type": "code",
      "metadata": {
        "id": "KNyuSM6PEQvX"
      },
      "source": [
        "# !gunzip /content/drive/MyDrive/binfo1-datapack1/gencode.gtf.gz"
      ],
      "execution_count": 34,
      "outputs": []
    },
    {
      "cell_type": "code",
      "metadata": {
        "id": "PVXzIs5FE3Q4"
      },
      "source": [
        "# !ls -al /content/drive/MyDrive/BioLab/binfo*"
      ],
      "execution_count": 35,
      "outputs": []
    },
    {
      "cell_type": "markdown",
      "metadata": {
        "id": "ecEA1PPQUlIK"
      },
      "source": [
        "실습에 필요한 프로그램들 몇 가지를 추가로 설치합니다."
      ]
    },
    {
      "cell_type": "code",
      "metadata": {
        "id": "neteyWsWEKBy",
        "colab": {
          "base_uri": "https://localhost:8080/"
        },
        "outputId": "35a449cf-cd05-45f8-d315-d96c0d1b0a0c"
      },
      "source": [
        "!conda install -y bedtools bioawk"
      ],
      "execution_count": 36,
      "outputs": [
        {
          "output_type": "stream",
          "text": [
            "Collecting package metadata (current_repodata.json): - \b\b\\ \b\b| \b\b/ \b\b- \b\b\\ \b\b| \b\b/ \b\b- \b\b\\ \b\b| \b\b/ \b\b- \b\b\\ \b\b| \b\b/ \b\b- \b\b\\ \b\b| \b\b/ \b\b- \b\b\\ \b\b| \b\bdone\n",
            "Solving environment: - \b\b\\ \b\b| \b\b/ \b\b- \b\b\\ \b\b| \b\b/ \b\b- \b\b\\ \b\b| \b\b/ \b\b- \b\b\\ \b\b| \b\b/ \b\b- \b\b\\ \b\b| \b\b/ \b\b- \b\b\\ \b\b| \b\bdone\n",
            "\n",
            "\n",
            "==> WARNING: A newer version of conda exists. <==\n",
            "  current version: 4.9.2\n",
            "  latest version: 4.10.1\n",
            "\n",
            "Please update conda by running\n",
            "\n",
            "    $ conda update -n base -c defaults conda\n",
            "\n",
            "\n",
            "\n",
            "## Package Plan ##\n",
            "\n",
            "  environment location: /root/conda/envs/lab\n",
            "\n",
            "  added / updated specs:\n",
            "    - bedtools\n",
            "    - bioawk\n",
            "\n",
            "\n",
            "The following NEW packages will be INSTALLED:\n",
            "\n",
            "  bioawk             bioconda/linux-64::bioawk-1.0-h5bf99c6_6\n",
            "\n",
            "\n",
            "Preparing transaction: - \b\bdone\n",
            "Verifying transaction: | \b\bdone\n",
            "Executing transaction: - \b\bdone\n"
          ],
          "name": "stdout"
        }
      ]
    },
    {
      "cell_type": "markdown",
      "metadata": {
        "id": "Oe_54MZrEi4y"
      },
      "source": [
        "## Mission 5\n",
        "\n",
        "stop codon 주변에서 ribosome-protected fragment의 분포"
      ]
    },
    {
      "cell_type": "code",
      "metadata": {
        "id": "IANz6DmLUkA6",
        "colab": {
          "base_uri": "https://localhost:8080/"
        },
        "outputId": "8e6a6c35-8a13-4c66-ed19-a1085dfa6e45"
      },
      "source": [
        "%cd /content/drive/MyDrive/BioLab/binfo1-datapack1/"
      ],
      "execution_count": 37,
      "outputs": [
        {
          "output_type": "stream",
          "text": [
            "/content/drive/MyDrive/BioLab/binfo1-datapack1\n"
          ],
          "name": "stdout"
        }
      ]
    },
    {
      "cell_type": "code",
      "metadata": {
        "colab": {
          "base_uri": "https://localhost:8080/"
        },
        "id": "89XhZr_WEx4l",
        "outputId": "114dd6df-cf00-4707-d53b-fce28fad742e"
      },
      "source": [
        "!grep '\tstop_codon\t.*\t+\t.*transcript_support_level \"1\"' gencode.gtf | sed -e 's/\t[^\t]*transcript_id \"\\([^\"]*\\)\".*$/\t\\1/g' > gencode-stop.gtf\n",
        "! head gencode-stop.gtf"
      ],
      "execution_count": 38,
      "outputs": [
        {
          "output_type": "stream",
          "text": [
            "chr1\tHAVANA\tstop_codon\t4917040\t4917042\t.\t+\t0\tENSMUST00000134384.8\n",
            "chr1\tHAVANA\tstop_codon\t4915237\t4915239\t.\t+\t0\tENSMUST00000027036.11\n",
            "chr1\tHAVANA\tstop_codon\t4911380\t4911382\t.\t+\t0\tENSMUST00000150971.8\n",
            "chr1\tHAVANA\tstop_codon\t4966585\t4966587\t.\t+\t0\tENSMUST00000081551.14\n",
            "chr1\tHAVANA\tstop_codon\t5232386\t5232388\t.\t+\t0\tENSMUST00000044369.13\n",
            "chr1\tHAVANA\tstop_codon\t5673005\t5673007\t.\t+\t0\tENSMUST00000160777.8\n",
            "chr1\tHAVANA\tstop_codon\t5673005\t5673007\t.\t+\t0\tENSMUST00000027038.11\n",
            "chr1\tHAVANA\tstop_codon\t6344497\t6344499\t.\t+\t0\tENSMUST00000027040.13\n",
            "chr1\tHAVANA\tstop_codon\t6344497\t6344499\t.\t+\t0\tENSMUST00000161327.8\n",
            "chr1\tHAVANA\tstop_codon\t6344497\t6344499\t.\t+\t0\tENSMUST00000159530.2\n"
          ],
          "name": "stdout"
        }
      ]
    },
    {
      "cell_type": "code",
      "metadata": {
        "colab": {
          "base_uri": "https://localhost:8080/"
        },
        "id": "6CVOUIVkTwJn",
        "outputId": "0421c94e-81db-49f1-803f-6a91859542e8"
      },
      "source": [
        "!head gencode-plusexon.gtf "
      ],
      "execution_count": 39,
      "outputs": [
        {
          "output_type": "stream",
          "text": [
            "chr1\tHAVANA\texon\t3143476\t3144545\t.\t+\t.\tENSMUST00000193812.2\n",
            "chr1\tENSEMBL\texon\t3172239\t3172348\t.\t+\t.\tENSMUST00000082908.3\n",
            "chr1\tHAVANA\texon\t3322980\t3323459\t.\t+\t.\tENSMUST00000192857.2\n",
            "chr1\tHAVANA\texon\t3536810\t3536910\t.\t+\t.\tENSMUST00000161581.2\n",
            "chr1\tHAVANA\texon\t3583628\t3583776\t.\t+\t.\tENSMUST00000161581.2\n",
            "chr1\tHAVANA\texon\t3602018\t3602943\t.\t+\t.\tENSMUST00000192183.2\n",
            "chr1\tHAVANA\texon\t3750378\t3752011\t.\t+\t.\tENSMUST00000193244.2\n",
            "chr1\tHAVANA\texon\t3822233\t3824583\t.\t+\t.\tENSMUST00000194454.2\n",
            "chr1\tHAVANA\texon\t4566774\t4569601\t.\t+\t.\tENSMUST00000193450.2\n",
            "chr1\tHAVANA\texon\t4567697\t4567877\t.\t+\t.\tENSMUST00000194935.2\n"
          ],
          "name": "stdout"
        }
      ]
    },
    {
      "cell_type": "code",
      "metadata": {
        "colab": {
          "base_uri": "https://localhost:8080/"
        },
        "id": "WkwHBhHHSJwk",
        "outputId": "c9312424-8562-4000-84b9-d3651bd4250d"
      },
      "source": [
        "!bedtools intersect -a gencode-stop.gtf -b gencode-plusexon.gtf -wa -wb | head"
      ],
      "execution_count": 40,
      "outputs": [
        {
          "output_type": "stream",
          "text": [
            "chr1\tHAVANA\tstop_codon\t4917040\t4917042\t.\t+\t0\tENSMUST00000134384.8\tchr1\tHAVANA\texon\t4917007\t4917106\t.\t+\t.\tENSMUST00000134384.8\n",
            "chr1\tHAVANA\tstop_codon\t4915237\t4915239\t.\t+\t0\tENSMUST00000027036.11\tchr1\tHAVANA\texon\t4915186\t4916962\t.\t+\t.\tENSMUST00000027036.11\n",
            "chr1\tHAVANA\tstop_codon\t4915237\t4915239\t.\t+\t0\tENSMUST00000027036.11\tchr1\tHAVANA\texon\t4915186\t4915397\t.\t+\t.\tENSMUST00000119612.9\n",
            "chr1\tHAVANA\tstop_codon\t4915237\t4915239\t.\t+\t0\tENSMUST00000027036.11\tchr1\tHAVANA\texon\t4915186\t4915575\t.\t+\t.\tENSMUST00000115529.8\n",
            "chr1\tHAVANA\tstop_codon\t4911380\t4911382\t.\t+\t0\tENSMUST00000150971.8\tchr1\tHAVANA\texon\t4911179\t4911509\t.\t+\t.\tENSMUST00000150971.8\n",
            "chr1\tHAVANA\tstop_codon\t4911380\t4911382\t.\t+\t0\tENSMUST00000150971.8\tchr1\tHAVANA\texon\t4911179\t4913050\t.\t+\t.\tENSMUST00000141278.2\n",
            "chr1\tHAVANA\tstop_codon\t4966585\t4966587\t.\t+\t0\tENSMUST00000081551.14\tchr1\tHAVANA\texon\t4966579\t4968128\t.\t+\t.\tENSMUST00000081551.14\n",
            "chr1\tHAVANA\tstop_codon\t4966585\t4966587\t.\t+\t0\tENSMUST00000081551.14\tchr1\tHAVANA\texon\t4966579\t4968132\t.\t+\t.\tENSMUST00000165720.3\n",
            "chr1\tHAVANA\tstop_codon\t5232386\t5232388\t.\t+\t0\tENSMUST00000044369.13\tchr1\tHAVANA\texon\t5232328\t5232563\t.\t+\t.\tENSMUST00000192847.6\n",
            "chr1\tHAVANA\tstop_codon\t5232386\t5232388\t.\t+\t0\tENSMUST00000044369.13\tchr1\tHAVANA\texon\t5232328\t5232752\t.\t+\t.\tENSMUST00000044369.13\n"
          ],
          "name": "stdout"
        }
      ]
    },
    {
      "cell_type": "code",
      "metadata": {
        "colab": {
          "base_uri": "https://localhost:8080/"
        },
        "id": "Mn545vZ3FciP",
        "outputId": "41a69ce9-9d5e-4d76-d8a2-3c39a3af2e7e"
      },
      "source": [
        "!bedtools intersect -a gencode-stop.gtf -b gencode-plusexon.gtf -wa -wb | \\\n",
        " awk -F'\t' -v OFS='\t' '$9 == $18 { print $10, $13-1, $14, $18, $5, $16; }' | \\\n",
        " sort -k1,1 -k2,3n -k4,4 > gencode-exons-containing-stopcodon.bed\n",
        "!head gencode-exons-containing-stopcodon.bed; tail gencode-exons-containing-stopcodon.bed"
      ],
      "execution_count": 41,
      "outputs": [
        {
          "output_type": "stream",
          "text": [
            "chr1\t4911178\t4911509\tENSMUST00000150971.8\t4911382\t+\n",
            "chr1\t4915185\t4916962\tENSMUST00000027036.11\t4915239\t+\n",
            "chr1\t4917006\t4917106\tENSMUST00000134384.8\t4917042\t+\n",
            "chr1\t4966578\t4968128\tENSMUST00000081551.14\t4966587\t+\n",
            "chr1\t5232327\t5232752\tENSMUST00000044369.13\t5232388\t+\n",
            "chr1\t5672474\t5673089\tENSMUST00000027038.11\t5673007\t+\n",
            "chr1\t5672474\t5676354\tENSMUST00000160777.8\t5673007\t+\n",
            "chr1\t6344421\t6346872\tENSMUST00000027040.13\t6344499\t+\n",
            "chr1\t6344421\t6344713\tENSMUST00000159530.2\t6344499\t+\n",
            "chr1\t6344421\t6345801\tENSMUST00000161327.8\t6344499\t+\n",
            "chrY\t80964301\t80964527\tENSMUST00000185340.2\t80964331\t+\n",
            "chrY\t81495129\t81495356\tENSMUST00000187135.2\t81495159\t+\n",
            "chrY\t82262462\t82262688\tENSMUST00000185636.2\t82262492\t+\n",
            "chrY\t83068344\t83068570\tENSMUST00000187165.2\t83068374\t+\n",
            "chrY\t84134537\t84134763\tENSMUST00000185776.7\t84134567\t+\n",
            "chrY\t84783945\t84784171\tENSMUST00000186110.2\t84783975\t+\n",
            "chrY\t86098997\t86099221\tENSMUST00000188754.2\t86099027\t+\n",
            "chrY\t87153959\t87154186\tENSMUST00000189543.7\t87153989\t+\n",
            "chrY\t87586734\t87586960\tENSMUST00000186493.2\t87586764\t+\n",
            "chrY\t88090536\t88090763\tENSMUST00000187146.2\t88090566\t+\n"
          ],
          "name": "stdout"
        }
      ]
    },
    {
      "cell_type": "code",
      "metadata": {
        "id": "IZjHau7zftoU",
        "colab": {
          "base_uri": "https://localhost:8080/"
        },
        "outputId": "1705ebaf-1f1e-4f59-d341-a6b38827a253"
      },
      "source": [
        "!bedtools genomecov -ibam filtered-RPF-siLuc.bam -bg -5 > stp5pcounts-RPF-siLuc.bed\n",
        "!head stp5pcounts-RPF-siLuc.bed"
      ],
      "execution_count": 42,
      "outputs": [
        {
          "output_type": "stream",
          "text": [
            "tcmalloc: large alloc 1561239552 bytes == 0x562574a74000 @  0x7f0432ddf887 0x5625732f9fea 0x5625732fe6fd 0x5625732ff33f 0x5625732f78a9 0x5625732ab773 0x7f0432409bf7 0x5625732b3569\n",
            "tcmalloc: large alloc 1454047232 bytes == 0x562574a74000 @  0x7f0432ddf887 0x5625732f9fea 0x5625732fe6fd 0x5625732ff33f 0x5625732f78a9 0x5625732ab773 0x7f0432409bf7 0x5625732b3569\n",
            "chr1\t3176534\t3176535\t1\n",
            "chr1\t3196256\t3196257\t1\n",
            "chr1\t3221526\t3221527\t1\n",
            "chr1\t3221542\t3221543\t2\n",
            "chr1\t3221545\t3221546\t3\n",
            "chr1\t3221546\t3221547\t2\n",
            "chr1\t3221548\t3221550\t1\n",
            "chr1\t3221571\t3221572\t1\n",
            "chr1\t3221897\t3221898\t1\n",
            "chr1\t3221994\t3221995\t1\n"
          ],
          "name": "stdout"
        }
      ]
    },
    {
      "cell_type": "code",
      "metadata": {
        "colab": {
          "base_uri": "https://localhost:8080/"
        },
        "id": "xdYo-ym1V3Fs",
        "outputId": "3321c4c4-1432-450d-b9bb-8e373d82f79d"
      },
      "source": [
        "!head gencode-exons-containing-stopcodon.bed"
      ],
      "execution_count": 43,
      "outputs": [
        {
          "output_type": "stream",
          "text": [
            "chr1\t4911178\t4911509\tENSMUST00000150971.8\t4911382\t+\n",
            "chr1\t4915185\t4916962\tENSMUST00000027036.11\t4915239\t+\n",
            "chr1\t4917006\t4917106\tENSMUST00000134384.8\t4917042\t+\n",
            "chr1\t4966578\t4968128\tENSMUST00000081551.14\t4966587\t+\n",
            "chr1\t5232327\t5232752\tENSMUST00000044369.13\t5232388\t+\n",
            "chr1\t5672474\t5673089\tENSMUST00000027038.11\t5673007\t+\n",
            "chr1\t5672474\t5676354\tENSMUST00000160777.8\t5673007\t+\n",
            "chr1\t6344421\t6346872\tENSMUST00000027040.13\t6344499\t+\n",
            "chr1\t6344421\t6344713\tENSMUST00000159530.2\t6344499\t+\n",
            "chr1\t6344421\t6345801\tENSMUST00000161327.8\t6344499\t+\n"
          ],
          "name": "stdout"
        }
      ]
    },
    {
      "cell_type": "code",
      "metadata": {
        "colab": {
          "base_uri": "https://localhost:8080/"
        },
        "id": "CL8ghhz6XSrF",
        "outputId": "2a26a34f-6109-41e4-fed0-896d1aed03c9"
      },
      "source": [
        "!head stp5pcounts-RPF-siLuc.bed"
      ],
      "execution_count": 44,
      "outputs": [
        {
          "output_type": "stream",
          "text": [
            "chr1\t3176534\t3176535\t1\n",
            "chr1\t3196256\t3196257\t1\n",
            "chr1\t3221526\t3221527\t1\n",
            "chr1\t3221542\t3221543\t2\n",
            "chr1\t3221545\t3221546\t3\n",
            "chr1\t3221546\t3221547\t2\n",
            "chr1\t3221548\t3221550\t1\n",
            "chr1\t3221571\t3221572\t1\n",
            "chr1\t3221897\t3221898\t1\n",
            "chr1\t3221994\t3221995\t1\n"
          ],
          "name": "stdout"
        }
      ]
    },
    {
      "cell_type": "code",
      "metadata": {
        "id": "k1cOiX2Hftlx",
        "colab": {
          "base_uri": "https://localhost:8080/"
        },
        "outputId": "7d4bfe31-f832-492f-d99c-2efe869ec6ae"
      },
      "source": [
        "!bedtools intersect -a stp5pcounts-RPF-siLuc.bed -b gencode-exons-containing-stopcodon.bed -wa -wb -nonamecheck > stp5pcounts-filtered-RPF-siLuc.txt\n",
        "!head stp5pcounts-filtered-RPF-siLuc.txt"
      ],
      "execution_count": 45,
      "outputs": [
        {
          "output_type": "stream",
          "text": [
            "chr1\t4911178\t4911179\t1\tchr1\t4911178\t4911509\tENSMUST00000150971.8\t4911382\t+\n",
            "chr1\t4911181\t4911182\t2\tchr1\t4911178\t4911509\tENSMUST00000150971.8\t4911382\t+\n",
            "chr1\t4911182\t4911184\t1\tchr1\t4911178\t4911509\tENSMUST00000150971.8\t4911382\t+\n",
            "chr1\t4911186\t4911188\t1\tchr1\t4911178\t4911509\tENSMUST00000150971.8\t4911382\t+\n",
            "chr1\t4911189\t4911190\t6\tchr1\t4911178\t4911509\tENSMUST00000150971.8\t4911382\t+\n",
            "chr1\t4911190\t4911191\t8\tchr1\t4911178\t4911509\tENSMUST00000150971.8\t4911382\t+\n",
            "chr1\t4911192\t4911193\t1\tchr1\t4911178\t4911509\tENSMUST00000150971.8\t4911382\t+\n",
            "chr1\t4911193\t4911194\t2\tchr1\t4911178\t4911509\tENSMUST00000150971.8\t4911382\t+\n",
            "chr1\t4911195\t4911196\t3\tchr1\t4911178\t4911509\tENSMUST00000150971.8\t4911382\t+\n",
            "chr1\t4911196\t4911197\t2\tchr1\t4911178\t4911509\tENSMUST00000150971.8\t4911382\t+\n"
          ],
          "name": "stdout"
        }
      ]
    },
    {
      "cell_type": "code",
      "metadata": {
        "id": "Ez4r_iLfFJru"
      },
      "source": [
        "import pandas as pd\n",
        "import matplotlib.pyplot as plt\n",
        "def drawPlot(x,y,title):\n",
        "  plt.title('Ribosome footprint density near stop codon', pad=10)\n",
        "  plt.ylabel(title, labelpad=10)\n",
        "  plt.bar(x, y, width=0.3)\n",
        "  plt.axvline(x=0, color='r', linestyle='-', linewidth=0.3)\n",
        "  plt.show()"
      ],
      "execution_count": 46,
      "outputs": []
    },
    {
      "cell_type": "code",
      "metadata": {
        "colab": {
          "base_uri": "https://localhost:8080/",
          "height": 439
        },
        "id": "hb5VrmMnLR1M",
        "outputId": "0ae86c61-c3f3-47b8-90bd-f0cd5ca3fd05"
      },
      "source": [
        "pd.read_csv('stp5pcounts-filtered-RPF-siLuc.txt', header=None, sep='\\t')"
      ],
      "execution_count": 47,
      "outputs": [
        {
          "output_type": "execute_result",
          "data": {
            "text/html": [
              "<div>\n",
              "<style scoped>\n",
              "    .dataframe tbody tr th:only-of-type {\n",
              "        vertical-align: middle;\n",
              "    }\n",
              "\n",
              "    .dataframe tbody tr th {\n",
              "        vertical-align: top;\n",
              "    }\n",
              "\n",
              "    .dataframe thead th {\n",
              "        text-align: right;\n",
              "    }\n",
              "</style>\n",
              "<table border=\"1\" class=\"dataframe\">\n",
              "  <thead>\n",
              "    <tr style=\"text-align: right;\">\n",
              "      <th></th>\n",
              "      <th>0</th>\n",
              "      <th>1</th>\n",
              "      <th>2</th>\n",
              "      <th>3</th>\n",
              "      <th>4</th>\n",
              "      <th>5</th>\n",
              "      <th>6</th>\n",
              "      <th>7</th>\n",
              "      <th>8</th>\n",
              "      <th>9</th>\n",
              "    </tr>\n",
              "  </thead>\n",
              "  <tbody>\n",
              "    <tr>\n",
              "      <th>0</th>\n",
              "      <td>chr1</td>\n",
              "      <td>4911178</td>\n",
              "      <td>4911179</td>\n",
              "      <td>1</td>\n",
              "      <td>chr1</td>\n",
              "      <td>4911178</td>\n",
              "      <td>4911509</td>\n",
              "      <td>ENSMUST00000150971.8</td>\n",
              "      <td>4911382</td>\n",
              "      <td>+</td>\n",
              "    </tr>\n",
              "    <tr>\n",
              "      <th>1</th>\n",
              "      <td>chr1</td>\n",
              "      <td>4911181</td>\n",
              "      <td>4911182</td>\n",
              "      <td>2</td>\n",
              "      <td>chr1</td>\n",
              "      <td>4911178</td>\n",
              "      <td>4911509</td>\n",
              "      <td>ENSMUST00000150971.8</td>\n",
              "      <td>4911382</td>\n",
              "      <td>+</td>\n",
              "    </tr>\n",
              "    <tr>\n",
              "      <th>2</th>\n",
              "      <td>chr1</td>\n",
              "      <td>4911182</td>\n",
              "      <td>4911184</td>\n",
              "      <td>1</td>\n",
              "      <td>chr1</td>\n",
              "      <td>4911178</td>\n",
              "      <td>4911509</td>\n",
              "      <td>ENSMUST00000150971.8</td>\n",
              "      <td>4911382</td>\n",
              "      <td>+</td>\n",
              "    </tr>\n",
              "    <tr>\n",
              "      <th>3</th>\n",
              "      <td>chr1</td>\n",
              "      <td>4911186</td>\n",
              "      <td>4911188</td>\n",
              "      <td>1</td>\n",
              "      <td>chr1</td>\n",
              "      <td>4911178</td>\n",
              "      <td>4911509</td>\n",
              "      <td>ENSMUST00000150971.8</td>\n",
              "      <td>4911382</td>\n",
              "      <td>+</td>\n",
              "    </tr>\n",
              "    <tr>\n",
              "      <th>4</th>\n",
              "      <td>chr1</td>\n",
              "      <td>4911189</td>\n",
              "      <td>4911190</td>\n",
              "      <td>6</td>\n",
              "      <td>chr1</td>\n",
              "      <td>4911178</td>\n",
              "      <td>4911509</td>\n",
              "      <td>ENSMUST00000150971.8</td>\n",
              "      <td>4911382</td>\n",
              "      <td>+</td>\n",
              "    </tr>\n",
              "    <tr>\n",
              "      <th>...</th>\n",
              "      <td>...</td>\n",
              "      <td>...</td>\n",
              "      <td>...</td>\n",
              "      <td>...</td>\n",
              "      <td>...</td>\n",
              "      <td>...</td>\n",
              "      <td>...</td>\n",
              "      <td>...</td>\n",
              "      <td>...</td>\n",
              "      <td>...</td>\n",
              "    </tr>\n",
              "    <tr>\n",
              "      <th>256525</th>\n",
              "      <td>chrY</td>\n",
              "      <td>1028220</td>\n",
              "      <td>1028221</td>\n",
              "      <td>2</td>\n",
              "      <td>chrY</td>\n",
              "      <td>1028187</td>\n",
              "      <td>1028594</td>\n",
              "      <td>ENSMUST00000091197.4</td>\n",
              "      <td>1028251</td>\n",
              "      <td>+</td>\n",
              "    </tr>\n",
              "    <tr>\n",
              "      <th>256526</th>\n",
              "      <td>chrY</td>\n",
              "      <td>6268723</td>\n",
              "      <td>6268724</td>\n",
              "      <td>1</td>\n",
              "      <td>chrY</td>\n",
              "      <td>6268584</td>\n",
              "      <td>6269548</td>\n",
              "      <td>ENSMUST00000187857.2</td>\n",
              "      <td>6269423</td>\n",
              "      <td>+</td>\n",
              "    </tr>\n",
              "    <tr>\n",
              "      <th>256527</th>\n",
              "      <td>chrY</td>\n",
              "      <td>13254007</td>\n",
              "      <td>13254008</td>\n",
              "      <td>1</td>\n",
              "      <td>chrY</td>\n",
              "      <td>13253868</td>\n",
              "      <td>13254834</td>\n",
              "      <td>ENSMUST00000192749.2</td>\n",
              "      <td>13254707</td>\n",
              "      <td>+</td>\n",
              "    </tr>\n",
              "    <tr>\n",
              "      <th>256528</th>\n",
              "      <td>chrY</td>\n",
              "      <td>13377978</td>\n",
              "      <td>13377979</td>\n",
              "      <td>1</td>\n",
              "      <td>chrY</td>\n",
              "      <td>13377839</td>\n",
              "      <td>13378804</td>\n",
              "      <td>ENSMUST00000192204.2</td>\n",
              "      <td>13378678</td>\n",
              "      <td>+</td>\n",
              "    </tr>\n",
              "    <tr>\n",
              "      <th>256529</th>\n",
              "      <td>chrY</td>\n",
              "      <td>40761874</td>\n",
              "      <td>40761875</td>\n",
              "      <td>1</td>\n",
              "      <td>chrY</td>\n",
              "      <td>40761735</td>\n",
              "      <td>40762701</td>\n",
              "      <td>ENSMUST00000190909.2</td>\n",
              "      <td>40762574</td>\n",
              "      <td>+</td>\n",
              "    </tr>\n",
              "  </tbody>\n",
              "</table>\n",
              "<p>256530 rows × 10 columns</p>\n",
              "</div>"
            ],
            "text/plain": [
              "           0         1         2  ...                     7         8  9\n",
              "0       chr1   4911178   4911179  ...  ENSMUST00000150971.8   4911382  +\n",
              "1       chr1   4911181   4911182  ...  ENSMUST00000150971.8   4911382  +\n",
              "2       chr1   4911182   4911184  ...  ENSMUST00000150971.8   4911382  +\n",
              "3       chr1   4911186   4911188  ...  ENSMUST00000150971.8   4911382  +\n",
              "4       chr1   4911189   4911190  ...  ENSMUST00000150971.8   4911382  +\n",
              "...      ...       ...       ...  ...                   ...       ... ..\n",
              "256525  chrY   1028220   1028221  ...  ENSMUST00000091197.4   1028251  +\n",
              "256526  chrY   6268723   6268724  ...  ENSMUST00000187857.2   6269423  +\n",
              "256527  chrY  13254007  13254008  ...  ENSMUST00000192749.2  13254707  +\n",
              "256528  chrY  13377978  13377979  ...  ENSMUST00000192204.2  13378678  +\n",
              "256529  chrY  40761874  40761875  ...  ENSMUST00000190909.2  40762574  +\n",
              "\n",
              "[256530 rows x 10 columns]"
            ]
          },
          "metadata": {
            "tags": []
          },
          "execution_count": 47
        }
      ]
    },
    {
      "cell_type": "code",
      "metadata": {
        "id": "aPPW73t4X3pp",
        "colab": {
          "base_uri": "https://localhost:8080/",
          "height": 285
        },
        "outputId": "15f67ed5-13f8-4176-9d6c-f3af86df1cb0"
      },
      "source": [
        "df = pd.read_csv('stp5pcounts-filtered-RPF-siLuc.txt', header=None, sep='\\t')\n",
        "df['relativePos'] = df.apply(lambda x: x[1]-x[8] , axis=1)\n",
        "temp = df[df.relativePos.apply(lambda x: abs(x)<50)].groupby('relativePos').count()[0]\n",
        "plotDF = pd.DataFrame({'cnt':[int(i) for i in temp.values] , 'relativePos':[int(i) for i in temp.index]})\n",
        "drawPlot(plotDF.relativePos, plotDF.cnt, 'siLuc')"
      ],
      "execution_count": 48,
      "outputs": [
        {
          "output_type": "display_data",
          "data": {
            "image/png": "[encoded data removed]",
            "text/plain": [
              "<Figure size 432x288 with 1 Axes>"
            ]
          },
          "metadata": {
            "tags": [],
            "needs_background": "light"
          }
        }
      ]
    },
    {
      "cell_type": "code",
      "metadata": {
        "colab": {
          "base_uri": "https://localhost:8080/"
        },
        "id": "BBx93lU-2NIX",
        "outputId": "6d71eea6-9056-4179-b9f2-7c1a27927a72"
      },
      "source": [
        "# read의 3' end 위치를 셉니다\n",
        "!bedtools genomecov -ibam filtered-RPF-siLin28a.bam -bg -5 > stp5pcounts-RPF-siLin28a.bed\n",
        "!head stp5pcounts-RPF-siLin28a.bed"
      ],
      "execution_count": 49,
      "outputs": [
        {
          "output_type": "stream",
          "text": [
            "tcmalloc: large alloc 1561239552 bytes == 0x5627aaad8000 @  0x7ffa81772887 0x5627a980ffea 0x5627a98146fd 0x5627a981533f 0x5627a980d8a9 0x5627a97c1773 0x7ffa80d9cbf7 0x5627a97c9569\n",
            "tcmalloc: large alloc 1454047232 bytes == 0x5627aaad8000 @  0x7ffa81772887 0x5627a980ffea 0x5627a98146fd 0x5627a981533f 0x5627a980d8a9 0x5627a97c1773 0x7ffa80d9cbf7 0x5627a97c9569\n",
            "chr1\t3123359\t3123360\t1\n",
            "chr1\t3124284\t3124285\t1\n",
            "chr1\t3188296\t3188297\t1\n",
            "chr1\t3221546\t3221547\t1\n",
            "chr1\t3221549\t3221550\t2\n",
            "chr1\t3221868\t3221869\t1\n",
            "chr1\t3222153\t3222154\t1\n",
            "chr1\t3222413\t3222415\t1\n",
            "chr1\t3222638\t3222639\t1\n",
            "chr1\t3224556\t3224557\t1\n"
          ],
          "name": "stdout"
        }
      ]
    },
    {
      "cell_type": "code",
      "metadata": {
        "colab": {
          "base_uri": "https://localhost:8080/"
        },
        "id": "XcgSE3ea2NNF",
        "outputId": "9ab9e29f-6431-4f68-a2f4-da293846887e"
      },
      "source": [
        "# 그렇게 match 된 것들 중에 앞에서 찾은 start codon을 포함한 exon과 겹치는 것만 골라냅니다.\n",
        "!bedtools intersect -a stp5pcounts-RPF-siLin28a.bed -b gencode-exons-containing-stopcodon.bed -wa -wb -nonamecheck > stp5pcounts-filtered-RPF-siLin28a.txt\n",
        "!head stp5pcounts-filtered-RPF-siLin28a.txt"
      ],
      "execution_count": 50,
      "outputs": [
        {
          "output_type": "stream",
          "text": [
            "chr1\t4911180\t4911181\t1\tchr1\t4911178\t4911509\tENSMUST00000150971.8\t4911382\t+\n",
            "chr1\t4911181\t4911182\t2\tchr1\t4911178\t4911509\tENSMUST00000150971.8\t4911382\t+\n",
            "chr1\t4911184\t4911185\t2\tchr1\t4911178\t4911509\tENSMUST00000150971.8\t4911382\t+\n",
            "chr1\t4911185\t4911186\t1\tchr1\t4911178\t4911509\tENSMUST00000150971.8\t4911382\t+\n",
            "chr1\t4911187\t4911188\t2\tchr1\t4911178\t4911509\tENSMUST00000150971.8\t4911382\t+\n",
            "chr1\t4911189\t4911190\t1\tchr1\t4911178\t4911509\tENSMUST00000150971.8\t4911382\t+\n",
            "chr1\t4911190\t4911191\t8\tchr1\t4911178\t4911509\tENSMUST00000150971.8\t4911382\t+\n",
            "chr1\t4911191\t4911192\t1\tchr1\t4911178\t4911509\tENSMUST00000150971.8\t4911382\t+\n",
            "chr1\t4911192\t4911193\t3\tchr1\t4911178\t4911509\tENSMUST00000150971.8\t4911382\t+\n",
            "chr1\t4911195\t4911196\t3\tchr1\t4911178\t4911509\tENSMUST00000150971.8\t4911382\t+\n"
          ],
          "name": "stdout"
        }
      ]
    },
    {
      "cell_type": "code",
      "metadata": {
        "colab": {
          "base_uri": "https://localhost:8080/",
          "height": 285
        },
        "id": "Fmd0_P3J446L",
        "outputId": "b7b2779c-29ab-42c2-fc49-dc0dad2de584"
      },
      "source": [
        "import matplotlib.pyplot as plt\n",
        "import numpy as np\n",
        "df = pd.read_csv('stp5pcounts-filtered-RPF-siLin28a.txt', header=None, sep='\\t')\n",
        "df['relativePos'] = df.apply(lambda x: x[2]-x[8] , axis=1)\n",
        "\n",
        "temp = df[df.relativePos.apply(lambda x: abs(x)<50)].groupby('relativePos').count()[0]\n",
        "plotDF = pd.DataFrame({'cnt':[int(i) for i in temp.values] , 'relativePos':[int(i) for i in temp.index]})\n",
        "drawPlot(plotDF.relativePos, plotDF.cnt, 'siLin28')"
      ],
      "execution_count": 51,
      "outputs": [
        {
          "output_type": "display_data",
          "data": {
            "image/png": "[encoded data removed]",
            "text/plain": [
              "<Figure size 432x288 with 1 Axes>"
            ]
          },
          "metadata": {
            "tags": [],
            "needs_background": "light"
          }
        }
      ]
    }
  ]
}